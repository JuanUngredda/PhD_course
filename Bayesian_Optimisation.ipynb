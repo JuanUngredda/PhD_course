{
 "cells": [
  {
   "cell_type": "code",
   "execution_count": 1,
   "id": "f080e038",
   "metadata": {
    "slideshow": {
     "slide_type": "skip"
    }
   },
   "outputs": [],
   "source": [
    "from ipywidgets import interact, interactive, fixed, interact_manual, FloatSlider, Layout\n",
    "import ipywidgets as widgets\n",
    "from scipy.stats import norm\n",
    "import seaborn as sn\n",
    "import numpy as np\n",
    "import pandas as pd\n",
    "import matplotlib.pyplot as plt\n",
    "from scipy.stats import multivariate_normal\n",
    "from IPython.display import display, Math"
   ]
  },
  {
   "cell_type": "code",
   "execution_count": 2,
   "id": "1187179b",
   "metadata": {
    "slideshow": {
     "slide_type": "skip"
    }
   },
   "outputs": [],
   "source": [
    "font_size = 16"
   ]
  },
  {
   "cell_type": "code",
   "execution_count": 3,
   "id": "a302328b",
   "metadata": {
    "slideshow": {
     "slide_type": "skip"
    }
   },
   "outputs": [],
   "source": [
    "from IPython.display import HTML\n",
    "import random\n",
    "\n",
    "def hide_toggle(for_next=False):\n",
    "    this_cell = \"\"\"$('div.cell.code_cell.rendered.selected')\"\"\"\n",
    "    next_cell = this_cell + '.next()'\n",
    "\n",
    "    toggle_text = 'Toggle show/hide'  # text shown on toggle link\n",
    "    target_cell = this_cell  # target cell to control with toggle\n",
    "    js_hide_current = ''  # bit of JS to permanently hide code in current cell (only when toggling next cell)\n",
    "\n",
    "    if for_next:\n",
    "        target_cell = next_cell\n",
    "        toggle_text += ' next cell'\n",
    "        js_hide_current = this_cell + '.find(\"div.input\").hide();'\n",
    "\n",
    "    js_f_name = 'code_toggle_{}'.format(str(random.randint(1,2**64)))\n",
    "\n",
    "    html = \"\"\"\n",
    "        <script>\n",
    "            function {f_name}() {{\n",
    "                {cell_selector}.find('div.input').toggle();\n",
    "            }}\n",
    "\n",
    "            {js_hide_current}\n",
    "        </script>\n",
    "\n",
    "        <a href=\"javascript:{f_name}()\">{toggle_text}</a>\n",
    "    \"\"\".format(\n",
    "        f_name=js_f_name,\n",
    "        cell_selector=target_cell,\n",
    "        js_hide_current=js_hide_current, \n",
    "        toggle_text=toggle_text\n",
    "    )\n",
    "\n",
    "    return HTML(html)"
   ]
  },
  {
   "cell_type": "markdown",
   "id": "66b2ccbc",
   "metadata": {
    "slideshow": {
     "slide_type": "slide"
    }
   },
   "source": [
    "<br>\n",
    "<br>\n",
    "\n",
    "# Bayesian Optimisation: Mastering Sequential Decision Making\n",
    "\n",
    "<br>\n",
    "<br>\n",
    "<br>\n",
    "<br>\n",
    "<br>\n",
    "PhD. Juan Ungredda, ESTECO SpA\n",
    "\n",
    "\n",
    "<img src=\"images/ESTECO_LOGO.png\" width=\"100\" height=\"100\" align=\"right\"/>"
   ]
  },
  {
   "cell_type": "markdown",
   "id": "562245fb",
   "metadata": {
    "slideshow": {
     "slide_type": "slide"
    }
   },
   "source": [
    "# Content\n",
    "\n",
    "* Recap\n",
    "* Motivation & applications of Bayesian Optimisation.\n",
    "* Surrogate model.\n",
    "* Acquisition functions.\n",
    "* Advanced topics."
   ]
  },
  {
   "cell_type": "markdown",
   "id": "a270b2f6",
   "metadata": {
    "slideshow": {
     "slide_type": "slide"
    }
   },
   "source": [
    "## Gaussian Process Regression: Recap\n",
    "\n",
    "$$\n",
    "f(x) \\sim GP(m(x), k(x, x'))\n",
    "$$\n",
    "\n",
    "<center>\n",
    "<img src=\"./images/prior_posterior.png\" alt=\"prior_posterior\" width=\"800\">\n",
    "<center>\n",
    "    \n",
    "- Model is fully determined by $m(x)$ and $k(x, x')$\n",
    "- Posterior can be computed in closed form.\n",
    "- Provides mean predictions and uncertainty calibration."
   ]
  },
  {
   "cell_type": "markdown",
   "id": "b797cafd",
   "metadata": {
    "slideshow": {
     "slide_type": "slide"
    }
   },
   "source": [
    "# Motivation of Bayesian Optimization.\n",
    "\n",
    "Consider a function $f : \\mathcal{X} \\rightarrow \\mathbb{R}$ in a bounded domain  $\\mathcal{X} \\subseteq \\mathbb{R}^D $. We aim to,\n",
    "\n",
    "<br>\n",
    "$$\n",
    "x^* = \\text{argmax}_{x \\in \\mathcal{X}} f(x)\n",
    "$$\n",
    "\n",
    "* **Black-box Function**: Lacks a known analytical form. Only input-output pairs $ (x, f(x)) $ are observable.\n",
    "\n",
    "* **Expensive**: There's a constraint on the number of function evaluations allowed.\n",
    "\n",
    "\n",
    "* **Noisy or Uncertain Observations**: Function evaluations might have noise."
   ]
  },
  {
   "cell_type": "markdown",
   "id": "74382235",
   "metadata": {
    "slideshow": {
     "slide_type": "slide"
    }
   },
   "source": [
    "# Applications\n",
    "\n",
    "- **Model configuration in machine learning**: find optimal\n",
    "hyper-parameter values, learning rates, number of layers, etc.\n",
    "\n",
    "<center>\n",
    "<img src=\"https://miro.medium.com/v2/resize:fit:1199/1*N8UXaiUKWurFLdmEhEHiWg.jpeg\" alt=\"Neural Network\" width=\"700\">\n",
    "<center>\n",
    "    \n"
   ]
  },
  {
   "cell_type": "markdown",
   "id": "b39b4897",
   "metadata": {
    "slideshow": {
     "slide_type": "slide"
    }
   },
   "source": [
    "# Applications\n",
    "\n",
    "- **Adaptive experimentation**: Optimize a function embodied in a physical process.\n",
    "\n",
    "<center>\n",
    "<img src=\"https://mediapool.bmwgroup.com/cache/P9/201703/P90252892/P90252892-30-03-2017-bmw-motorsport-computational-fluid-dynamics-cfd-simulation-bmw-m4-dtm-2357px.jpg\" alt=\"fluid dynamics\" width=\"500\">\n",
    "<center>\n",
    "    "
   ]
  },
  {
   "cell_type": "markdown",
   "id": "3cb678c6",
   "metadata": {
    "slideshow": {
     "slide_type": "slide"
    }
   },
   "source": [
    "# Applications\n",
    "\n",
    "Many other problems:\n",
    "- Robotics.\n",
    "- Control, reinforcement learning.\n",
    "- A/B testing.\n",
    "- Scheduling, planning.\n",
    "- Industrial design.\n",
    "- Simulation-optimization.\n"
   ]
  },
  {
   "cell_type": "code",
   "execution_count": 4,
   "id": "2168363f",
   "metadata": {
    "slideshow": {
     "slide_type": "skip"
    }
   },
   "outputs": [],
   "source": [
    "from scipy.optimize import minimize\n",
    "\n",
    "TIME_PER_EVALUATION = 15\n",
    "\n",
    "\n",
    "def expensive_function(x):\n",
    "    x = x - 0.55\n",
    "    return np.sin(x) + np.sin((2.0 ) * x) \n",
    "\n",
    "def random_optimizer(n, ub, lb):\n",
    "    return np.random.random(n)* (ub - lb) + lb\n",
    "\n",
    "def grid_search(n, ub,lb):\n",
    "    return np.linspace(lb, ub,n)\n",
    "\n",
    "def gradient_method(n, ub,lb):\n",
    "    x0 = np.array([4.0])\n",
    "    points = []\n",
    "    def expensive_function_with_points(x):\n",
    "        if len(points) < n:\n",
    "            points.append(x)  # Store evaluated points\n",
    "        return -expensive_function(x)\n",
    "    # Minimize the function while storing evaluated points\n",
    "    result = minimize(expensive_function_with_points, x0, method='Nelder-Mead', options={\"maxiter\":n})\n",
    "    return np.array(points)\n",
    "    \n",
    "def optimization_factory(method):\n",
    "    if method == \"grid\":\n",
    "        return grid_search\n",
    "    elif method == \"random\":\n",
    "        return random_optimizer\n",
    "    elif method == \"gradient\":\n",
    "        return gradient_method\n",
    "\n",
    "    \n",
    "def format_time(minutes):\n",
    "    if minutes < 60:\n",
    "        return f\"{minutes} minutes\"\n",
    "    elif minutes == 60:\n",
    "        return \"1 hour\"\n",
    "    else:\n",
    "        hours = minutes // 60\n",
    "        remaining_minutes = minutes % 60\n",
    "        if remaining_minutes == 0:\n",
    "            return f\"{hours} hours\"\n",
    "        else:\n",
    "            return f\"{hours} hours and {remaining_minutes} minutes\"\n",
    "\n",
    "class optimizer_logic():\n",
    "    def __init__(self, function, method, n):\n",
    "        self.function = function\n",
    "        self.method = method\n",
    "        self.n = n\n",
    "        \n",
    "    def optimization_main(self):\n",
    "        np.random.seed(1)\n",
    "        lb = -2.7\n",
    "        ub = 7.5\n",
    "\n",
    "        x = optimization_factory(self.method)(self.n,lb, ub)\n",
    "        y = self.function(x)\n",
    "\n",
    "        x_best = x[np.argmax(y)]\n",
    "        y_best = np.max(y)\n",
    "        x_plot = np.linspace(lb, ub,100)\n",
    "        y_plot = self.function(x_plot)\n",
    "\n",
    "        sn.set_style(\"darkgrid\")\n",
    "        plt.plot(x_plot, y_plot, color=\"black\", alpha=0.5,linestyle=\"--\")\n",
    "        plt.scatter(x, y, color=\"black\",facecolors='white', edgecolors='black',s=40)\n",
    "        plt.scatter(x_best, y_best, color=\"green\")\n",
    "        plt.xlim(lb, ub)\n",
    "        plt.xlabel(\"$X$\")\n",
    "        plt.ylabel(\"$f$\")\n",
    "        plt.title(r'Method: {} , Number of Sampler: {} , Computational Time: {}'.format(self.method, len(x), format_time(TIME_PER_EVALUATION*len(x))))\n",
    "    \n",
    "    def update_method(self, method):\n",
    "        self.method = method\n",
    "        \n",
    "    def update_n(self, n):\n",
    "        self.n = n"
   ]
  },
  {
   "cell_type": "code",
   "execution_count": 5,
   "id": "5aade2bd",
   "metadata": {
    "slideshow": {
     "slide_type": "subslide"
    }
   },
   "outputs": [
    {
     "data": {
      "application/vnd.jupyter.widget-view+json": {
       "model_id": "924c6898505d435d942ecc7aadfac0ba",
       "version_major": 2,
       "version_minor": 0
      },
      "text/plain": [
       "VBox(children=(HBox(children=(Dropdown(description='optimiser', layout=Layout(width='60%'), options=('random',…"
      ]
     },
     "metadata": {},
     "output_type": "display_data"
    },
    {
     "data": {
      "text/html": [
       "\n",
       "        <script>\n",
       "            function code_toggle_6684477744327324184() {\n",
       "                $('div.cell.code_cell.rendered.selected').find('div.input').toggle();\n",
       "            }\n",
       "\n",
       "            \n",
       "        </script>\n",
       "\n",
       "        <a href=\"javascript:code_toggle_6684477744327324184()\">Toggle show/hide</a>\n",
       "    "
      ],
      "text/plain": [
       "<IPython.core.display.HTML object>"
      ]
     },
     "execution_count": 5,
     "metadata": {},
     "output_type": "execute_result"
    }
   ],
   "source": [
    "output = widgets.Output()\n",
    "options = [\"random\", \"grid\", \"gradient\"]\n",
    "default =  options[0]\n",
    "optimizer = optimizer_logic(expensive_function, default, n = 10)\n",
    "\n",
    "def optimiser_changed(method):\n",
    "    with output:\n",
    "        if method['type'] == 'change' and method['name'] == 'value':\n",
    "            output.clear_output(wait=True)\n",
    "            plt.figure(figsize=(10, 6))\n",
    "            optimizer.update_method(method[\"new\"])\n",
    "            optimizer.optimization_main()\n",
    "            plt.show()\n",
    "\n",
    "def number_of_samples_changed(number_of_samples):\n",
    "    with output:\n",
    "        output.clear_output(wait=True)    \n",
    "        plt.figure(figsize=(10, 6))\n",
    "        optimizer.update_n(number_of_samples)\n",
    "        optimizer.optimization_main()\n",
    "        plt.show()\n",
    "            \n",
    "\n",
    "dropdown = widgets.Dropdown(options=options, description=r'optimiser', value=default, layout=Layout(width='60%'))\n",
    "dropdown.observe(optimiser_changed)\n",
    "intBox = widgets.IntText(value=7,description='$n$:')\n",
    "intBox.observe(lambda event: number_of_samples_changed(event['new']), names='value')\n",
    "\n",
    "display(widgets.VBox([widgets.HBox([dropdown, intBox]), output]))\n",
    "optimiser_changed({'type' : 'change', 'name' : 'value', 'new' : default});\n",
    "hide_toggle(for_next=False)"
   ]
  },
  {
   "cell_type": "markdown",
   "id": "4261de1d",
   "metadata": {
    "slideshow": {
     "slide_type": "slide"
    }
   },
   "source": [
    "# Bayesian Optimization Preview"
   ]
  },
  {
   "cell_type": "code",
   "execution_count": 6,
   "id": "a10a89bc",
   "metadata": {
    "slideshow": {
     "slide_type": "skip"
    }
   },
   "outputs": [],
   "source": [
    "class GaussianProcessRegressor:\n",
    "    def __init__(self, kernel, sigma_noise=1e-6):\n",
    "        self.kernel = kernel\n",
    "        self.sigma_noise = sigma_noise\n",
    "\n",
    "    def fit(self, X, y):\n",
    "        self.X_train = X\n",
    "        self.y_train = y\n",
    "        self.K = self.kernel(self.X_train, self.X_train)\n",
    "        self.K += np.eye(len(self.X_train)) * self.sigma_noise  # Adding noise to the diagonal for numerical stability\n",
    "        self.K_inv = np.linalg.inv(self.K)\n",
    "\n",
    "    def predict(self, X_test):\n",
    "        K_s = self.kernel(self.X_train, X_test)\n",
    "        mu_s = K_s.T.dot(self.K_inv).dot(self.y_train)\n",
    "        cov_s = self.kernel(X_test, X_test) - K_s.T.dot(self.K_inv).dot(K_s)\n",
    "        return mu_s.reshape(-1), np.sqrt(np.diag(cov_s))\n",
    "\n",
    "class kernel_gaussian():\n",
    "    def __init__(self,length_scale=1.0, amplitude=1.0):\n",
    "        self.length_scale = length_scale\n",
    "        self.amplitude = amplitude\n",
    "    \n",
    "    def print_formula(self):\n",
    "        eqn = r\"\"\"\n",
    "k_{\\text{RBF}}(x, x') = \\exp\\left(-\\frac{(x - x')^2}{2l^2}\\right)\n",
    "\"\"\"\n",
    "        display(Math(r\"\\text{RBF Kernel:}\"))\n",
    "        display(Math(eqn))\n",
    "        \n",
    "    def compute(self, x1, x2):\n",
    "         return self.amplitude * np.exp(-0.5 * ((x1[:, None] - x2[None, :]) / self.length_scale)**2)\n",
    "\n",
    "\n",
    "class expected_improvement():\n",
    "    def __init__(self,model, best_observed_value, xi=1e-6):\n",
    "        self.model = model\n",
    "        self.best_observed_value = best_observed_value\n",
    "        self.xi = xi\n",
    "    \n",
    "    def evaluate(self,x):\n",
    "        mu, sigma = self.model.predict(x)\n",
    "        with np.errstate(divide='warn'):\n",
    "            z = (mu - self.best_observed_value - self.xi) / sigma\n",
    "            ei = (mu - self.best_observed_value - self.xi) * norm.cdf(z) + sigma * norm.pdf(z)\n",
    "\n",
    "        ei[sigma == 0.0] = 0.0  # Avoid division by zero\n",
    "        return -ei\n",
    "\n",
    "class posterior_mean():\n",
    "    def __init__(self, model):\n",
    "        self.model = model\n",
    "        \n",
    "    def evaluate(self, x):\n",
    "        mu, _ = self.model.predict(x)\n",
    "        return - mu\n",
    "    \n",
    "class posterior_std():\n",
    "    def __init__(self, model):\n",
    "        self.model = model\n",
    "        \n",
    "    def evaluate(self, x):\n",
    "        _, std = self.model.predict(x)\n",
    "        return - std\n",
    "    \n",
    "def acquisition_function_factory(method, model, max_val):\n",
    "    if method == \"ei\":\n",
    "        return expected_improvement(model, max_val)\n",
    "    elif method == \"exploit\":\n",
    "        return posterior_mean(model)\n",
    "    elif method == \"explore\":\n",
    "        return posterior_std(model)\n",
    "    \n",
    "class bayesian_optimization_logic():\n",
    "    def __init__(self, method, function, n):\n",
    "        self.function = function\n",
    "        self.n = n\n",
    "        self.method = method\n",
    "        self.saved_solutions = {}\n",
    "    \n",
    "    def generate_random_data(self,n, ub, lb):\n",
    "        return (np.random.random(n)*(ub - lb) + lb)\n",
    "    \n",
    "    def optimization_main(self):\n",
    "        np.random.seed(5)\n",
    "        lb = -2.7\n",
    "        ub = 7.5\n",
    "        rbf_kernel = kernel_gaussian(length_scale=0.5, amplitude=0.1)\n",
    "        data_x = self.generate_random_data(3, ub, lb)\n",
    "        data_y = self.function(data_x)\n",
    "        \n",
    "        x_plot = np.linspace(lb, ub, 100)\n",
    "        y_plot = self.function(x_plot)\n",
    "\n",
    "        sn.set_style(\"darkgrid\")\n",
    "        fig, axes = plt.subplots(2, 1, figsize=(10, 5), gridspec_kw={'height_ratios': [4, 1]})\n",
    "        plt.subplot(2, 1, 1)\n",
    "        plt.plot(x_plot, y_plot, color=\"black\", alpha=0.5,linestyle=\"--\")\n",
    "        plt.scatter(data_x[:3], data_y[:3], color=\"black\",facecolors='white', edgecolors='black',s=40)\n",
    "        \n",
    "        for iteration in range(self.n):\n",
    "            if iteration in self.saved_solutions:\n",
    "                x = self.saved_solutions[iteration]\n",
    "            else:\n",
    "                gp = GaussianProcessRegressor(kernel=rbf_kernel.compute, sigma_noise=1e-06)\n",
    "                gp.fit(data_x, data_y)\n",
    "                ei = acquisition_function_factory(self.method,gp, np.max(data_y))\n",
    "                best_ei_val = np.inf\n",
    "                recommended_x = np.inf\n",
    "                candidate_points = np.linspace(lb, ub, 100)\n",
    "                ei_vals = ei.evaluate(candidate_points)\n",
    "                x = np.array([candidate_points[np.argmin(ei_vals)]])  \n",
    "            y = self.function(x)\n",
    "            plt.scatter(x, y, color=\"black\",facecolors='white', edgecolors='black',s=40)\n",
    "            data_x = np.concatenate([data_x, x])\n",
    "            data_y = np.concatenate([data_y, y])\n",
    "            \n",
    "            plt.scatter(data_x, data_y, color=\"black\",facecolors='white', edgecolors='black',s=40)\n",
    "            \n",
    "        gp_plot = GaussianProcessRegressor(kernel=rbf_kernel.compute, sigma_noise=1e-06)\n",
    "        gp_plot.fit(data_x, data_y)\n",
    "        mu , sigma = gp_plot.predict(x_plot)\n",
    "        plt.plot(x_plot, mu, linestyle=\"--\")\n",
    "        plt.fill_between(x_plot, mu-1.96*sigma, mu+1.96*sigma, alpha=0.3)\n",
    "        x_best = data_x[np.argmax(data_y)]\n",
    "        y_best = np.max(data_y)\n",
    "        plt.scatter(x_best, y_best, color=\"green\",s=40)\n",
    "        plt.xlim(lb, ub)\n",
    "        plt.xlabel(\"$X$\")\n",
    "        plt.ylabel(\"$f$\")\n",
    "        plt.title(r'Total Number of Samples: {} , Computational Time: {}'.format(len(data_x), format_time(TIME_PER_EVALUATION*len(data_x))))\n",
    "        \n",
    "        plt.subplot(2, 1, 2)\n",
    "        ei = acquisition_function_factory(self.method , gp_plot, np.max(data_y))\n",
    "        ei_vals = -ei.evaluate(x_plot)\n",
    "        \n",
    "        plt.plot(x_plot, ei_vals)\n",
    "        plt.scatter(x_plot[np.argmax(ei_vals)], np.max(ei_vals), color=\"red\")\n",
    "        plt.xlim(lb, ub)\n",
    "        plt.xlabel(\"$X$\")\n",
    "        plt.ylabel(r\"$\\alpha(x)$\")\n",
    "        \n",
    "    def update_n(self, n):\n",
    "        self.n = n\n",
    "        \n",
    "    def update_method(self, method):\n",
    "        self.method = method"
   ]
  },
  {
   "cell_type": "code",
   "execution_count": 7,
   "id": "4d403f07",
   "metadata": {
    "scrolled": false
   },
   "outputs": [
    {
     "data": {
      "application/vnd.jupyter.widget-view+json": {
       "model_id": "be10938647c446faa542d80def953788",
       "version_major": 2,
       "version_minor": 0
      },
      "text/plain": [
       "VBox(children=(IntText(value=0, description='BO samples:'), Output()))"
      ]
     },
     "metadata": {},
     "output_type": "display_data"
    },
    {
     "data": {
      "text/html": [
       "\n",
       "        <script>\n",
       "            function code_toggle_12869405204108447293() {\n",
       "                $('div.cell.code_cell.rendered.selected').find('div.input').toggle();\n",
       "            }\n",
       "\n",
       "            \n",
       "        </script>\n",
       "\n",
       "        <a href=\"javascript:code_toggle_12869405204108447293()\">Toggle show/hide</a>\n",
       "    "
      ],
      "text/plain": [
       "<IPython.core.display.HTML object>"
      ]
     },
     "execution_count": 7,
     "metadata": {},
     "output_type": "execute_result"
    }
   ],
   "source": [
    "output_2 = widgets.Output()\n",
    "budget = 0\n",
    "bo_optimizer = bayesian_optimization_logic(\"ei\",expensive_function, n = budget)\n",
    "\n",
    "def number_of_samples_changed_bo(number_of_samples):\n",
    "    with output_2:\n",
    "        output_2.clear_output(wait=True)    \n",
    "        bo_optimizer.update_n(number_of_samples)\n",
    "        bo_optimizer.optimization_main()\n",
    "        plt.show()\n",
    "            \n",
    "\n",
    "intBoxBO = widgets.IntText(value=budget,description='BO samples:')\n",
    "intBoxBO.observe(lambda event: number_of_samples_changed_bo(event['new']), names='value')\n",
    "\n",
    "display(widgets.VBox([intBoxBO, output_2]))\n",
    "number_of_samples_changed_bo(0)\n",
    "\n",
    "hide_toggle()"
   ]
  },
  {
   "cell_type": "markdown",
   "id": "56348cd7",
   "metadata": {
    "slideshow": {
     "slide_type": "slide"
    }
   },
   "source": [
    "# Ingredients of Bayesian Optimization\n",
    "\n",
    "<br>\n",
    "<br>\n",
    "\n",
    "- **Surrogate Model**: Calibrates the prediction and uncertainty over the data.\n",
    "\n",
    "<br>\n",
    "\n",
    "- **Acquisition function**: Transform the surrogate model and decision maker's utility into a sampling decision. "
   ]
  },
  {
   "cell_type": "markdown",
   "id": "c6ab955f",
   "metadata": {
    "slideshow": {
     "slide_type": "slide"
    }
   },
   "source": [
    "# Surrogate Model\n",
    "\n",
    "We typically use a Gaussian process (GP) but other models may be considered,\n",
    "- T-Student processes.\n",
    "- Random Forests.\n",
    "- Bayesian neural networks.\n",
    "- Trees of Parzen estimators.\n",
    "- etc.\n",
    "\n",
    "Any model able to calibrate uncertainty (needed for exploration) can be used in Bayesian optimization."
   ]
  },
  {
   "cell_type": "markdown",
   "id": "ad8760ea",
   "metadata": {
    "slideshow": {
     "slide_type": "slide"
    }
   },
   "source": [
    "# Exploration vs Exploitation\n",
    "\n",
    "<center>\n",
    "<img src=\"https://www.vmcdn.ca/f/files/baytoday/images/business/20190306-gap-northgate.JPG;w=1200;h=800;mode=crop\" alt=\"Shop\" width=\"800\">\n",
    "<center>\n"
   ]
  },
  {
   "cell_type": "code",
   "execution_count": 8,
   "id": "f3ac141b",
   "metadata": {
    "slideshow": {
     "slide_type": "subslide"
    }
   },
   "outputs": [
    {
     "data": {
      "application/vnd.jupyter.widget-view+json": {
       "model_id": "799c52e2363d44b5888dfb661b1640a7",
       "version_major": 2,
       "version_minor": 0
      },
      "text/plain": [
       "VBox(children=(HBox(children=(Dropdown(description='Strategy', layout=Layout(width='30%'), options=('exploit',…"
      ]
     },
     "metadata": {},
     "output_type": "display_data"
    },
    {
     "data": {
      "text/html": [
       "\n",
       "        <script>\n",
       "            function code_toggle_6060801287333378584() {\n",
       "                $('div.cell.code_cell.rendered.selected').find('div.input').toggle();\n",
       "            }\n",
       "\n",
       "            \n",
       "        </script>\n",
       "\n",
       "        <a href=\"javascript:code_toggle_6060801287333378584()\">Toggle show/hide</a>\n",
       "    "
      ],
      "text/plain": [
       "<IPython.core.display.HTML object>"
      ]
     },
     "execution_count": 8,
     "metadata": {},
     "output_type": "execute_result"
    }
   ],
   "source": [
    "output_3 = widgets.Output()\n",
    "budget = 0\n",
    "bo_optimizer_exploration_exploitation = bayesian_optimization_logic(\"exploit\" , expensive_function, n = budget)\n",
    "\n",
    "def number_of_samples_changed_bo_explore_exploit(number_of_samples):\n",
    "    with output_3:\n",
    "        output_3.clear_output(wait=True)    \n",
    "        bo_optimizer_exploration_exploitation.update_n(number_of_samples)\n",
    "        bo_optimizer_exploration_exploitation.optimization_main()\n",
    "        plt.show()\n",
    "            \n",
    "def acquisition_function_changed(operation):\n",
    "    with output_3:\n",
    "        output_3.clear_output(wait=True)\n",
    "        bo_optimizer_exploration_exploitation.update_method(operation)\n",
    "        bo_optimizer_exploration_exploitation.optimization_main()\n",
    "        plt.show()\n",
    "        \n",
    "intBoxBO = widgets.IntText(value=budget,description='BO samples:')\n",
    "intBoxBO.observe(lambda event: number_of_samples_changed_bo_explore_exploit(event['new']), names='value')\n",
    "\n",
    "options = [\"exploit\", \"explore\"]\n",
    "acq_func_widget = widgets.Dropdown(options=options, description=r'Strategy', value=options[0], layout=Layout(width='30%'))\n",
    "acq_func_widget.observe(lambda event: acquisition_function_changed(event['new']), names='value')\n",
    "\n",
    "widget_acq_funcs = widgets.HBox([acq_func_widget, intBoxBO])\n",
    "display(widgets.VBox([widget_acq_funcs, output_3]))\n",
    "number_of_samples_changed_bo_explore_exploit(0)\n",
    "\n",
    "hide_toggle()"
   ]
  },
  {
   "cell_type": "markdown",
   "id": "6e0eb775",
   "metadata": {
    "slideshow": {
     "slide_type": "slide"
    }
   },
   "source": [
    "# Bandit Problem"
   ]
  },
  {
   "cell_type": "code",
   "execution_count": 9,
   "id": "2c9bcf15",
   "metadata": {
    "slideshow": {
     "slide_type": "-"
    }
   },
   "outputs": [
    {
     "data": {
      "application/vnd.jupyter.widget-view+json": {
       "model_id": "b89daf3c892d46d6afcf0ac9bed955bb",
       "version_major": 2,
       "version_minor": 0
      },
      "text/plain": [
       "VBox(children=(HBox(children=(Button(description='reset', style=ButtonStyle()), Button(description='Bandit 0',…"
      ]
     },
     "metadata": {},
     "output_type": "display_data"
    },
    {
     "data": {
      "text/html": [
       "\n",
       "        <script>\n",
       "            function code_toggle_8052254350675092427() {\n",
       "                $('div.cell.code_cell.rendered.selected').find('div.input').toggle();\n",
       "            }\n",
       "\n",
       "            \n",
       "        </script>\n",
       "\n",
       "        <a href=\"javascript:code_toggle_8052254350675092427()\">Toggle show/hide</a>\n",
       "    "
      ],
      "text/plain": [
       "<IPython.core.display.HTML object>"
      ]
     },
     "execution_count": 9,
     "metadata": {},
     "output_type": "execute_result"
    }
   ],
   "source": [
    "import numpy as np\n",
    "import matplotlib.pyplot as plt\n",
    "from scipy.stats import norm\n",
    "\n",
    "class Bandit:\n",
    "    def __init__(self, mu, sigma, identifier):\n",
    "        self.mu = mu\n",
    "        self.sigma = sigma\n",
    "        self.identifier = identifier\n",
    "\n",
    "    def pull(self):\n",
    "        return np.random.normal(self.mu, self.sigma)\n",
    "\n",
    "def customized_violin(bandit, color, label, axis):\n",
    "    x = np.linspace(-5, 8, 1000)\n",
    "    data = norm.pdf(x, bandit.mu, bandit.sigma) * 0.5\n",
    "    axis.fill_betweenx(x, -data + bandit.identifier,  data + bandit.identifier, color=color, alpha=1)\n",
    "    \n",
    "def plot_bandits(data, bandits, title):\n",
    "    x = np.linspace(-3, 3, 1000)\n",
    "\n",
    "    fig, ax = plt.subplots(figsize=(10, 5))\n",
    "    plt.title(title)\n",
    "    for i, bandit in enumerate(bandits):\n",
    "        customized_violin(bandit, \"lightblue\", label = \"Bandit {}\".format(bandit.identifier), axis=ax)\n",
    "    sn.swarmplot(data = data, x=\"bandit\", y =\"reward\", order= range(len(bandits)) ,ax=ax)\n",
    "    plt.ylabel('Reward ($ f $)')\n",
    "    plt.xlim(-1, 4)\n",
    "    plt.ylim(0, 6)\n",
    "    plt.grid(True)\n",
    "\n",
    "\n",
    "class bandit_experiment():\n",
    "    def __init__(self, bandits):\n",
    "        self.bandits = bandits\n",
    "        self.n_bandits = len(self.bandits)\n",
    "        self.rewards = np.zeros(self.n_bandits)\n",
    "        self.samples = [[] for _ in range(self.n_bandits)]\n",
    "        self.data_bandits = {\"bandit\":[], \"reward\":[]}\n",
    "        \n",
    "    def sample(self, selected_bandit, num_trials):\n",
    "        if selected_bandit == \"None\":\n",
    "            return self.data_bandits\n",
    "        for _ in range(num_trials):\n",
    "            reward = bandits[selected_bandit].pull()\n",
    "            self.rewards[selected_bandit] += reward\n",
    "            self.samples[selected_bandit].append(reward)\n",
    "            self.data_bandits[\"bandit\"].append(selected_bandit)\n",
    "            self.data_bandits[\"reward\"].append(reward)\n",
    "        return pd.DataFrame(data=self.data_bandits)\n",
    "    \n",
    "    def reset(self):\n",
    "        self.samples = [[] for _ in range(self.n_bandits)]\n",
    "        self.data_bandits = {\"bandit\":[], \"reward\":[]}\n",
    "        return pd.DataFrame(data=self.data_bandits)\n",
    "# Define bandits\n",
    "output_4 = widgets.Output()\n",
    "np.random.seed(13)\n",
    "bandit_means = np.array([2.0, 1.5, 3.0, 2.5])\n",
    "bandit_sigmas = np.array([0.5, 0.5, 0.5, 0.5])\n",
    "bandits = [Bandit(mu, sigma, index) for index, mu, sigma in zip(range(4), bandit_means, bandit_sigmas)]\n",
    "df_data = pd.DataFrame(data={\"bandit\":[], \"reward\":[]})\n",
    "bandit_experiment_run = bandit_experiment(bandits)\n",
    "\n",
    "def bandit_selected(option):\n",
    "    bandit = int(option.description[-1])\n",
    "    with output_4:\n",
    "        output_4.clear_output(wait=True)\n",
    "        df_data = bandit_experiment_run.sample(bandit, 1)\n",
    "        plot_bandits(df_data, bandits, '4-Armed Bandit Problem with Gaussian Distributions')\n",
    "        \n",
    "        discount_factor = 0.9\n",
    "        display(Math(r\"\\text{Action values: }\"))\n",
    "        best_mean_value = bandit_means[df_data.groupby('bandit')['reward'].mean().argmax()]\n",
    "        sampled_actions_values = np.array(bandit_means)[df_data[\"bandit\"].values]\n",
    "        scalars = [discount_factor**i for i in range(len(sampled_actions_values))]\n",
    "        sum_actions = np.sum(sampled_actions_values * scalars)\n",
    "        display(Math(r\"\\text{Ranking and Selection: } \\mathbb{E}^{\\pi}[f(x^B)] \\approx \"+str(best_mean_value)))\n",
    "        display(Math(r\"\\text{Multi-Armed Bandits: }  \\mathbb{E}^{\\pi}[\\sum^N_{n=0}\\lambda^n f(x^n)] \\approx \"+str(sum_actions)))\n",
    "        plt.show()\n",
    "\n",
    "def reset_bandit_problem(option):\n",
    "    with output_4:\n",
    "        output_4.clear_output(wait=True)\n",
    "        df_data = bandit_experiment_run.reset()\n",
    "        plot_bandits(df_data, bandits, '4-Armed Bandit Problem with Gaussian Distributions')\n",
    "        \n",
    "        display(Math(r\"\\text{Value for actions: }\"))\n",
    "        display(Math(r\"\\text{Ranking and Selection: } \\mathbb{E}^{\\pi}[f(x^B)] \\approx \"+str(0.0)))\n",
    "        display(Math(r\"\\text{Multi-Armed Bandits: }  \\mathbb{E}^{\\pi}[\\sum^N_{n=0}\\lambda^n f(x^n)] \\approx \"+str(0.0)))\n",
    "        plt.show()\n",
    "\n",
    "\n",
    "button_reset = widgets.Button(description='reset')\n",
    "button_0 = widgets.Button(description='Bandit 0')\n",
    "button_1 = widgets.Button(description='bandit 1')\n",
    "button_2 = widgets.Button(description='Bandit 2')\n",
    "button_3 = widgets.Button(description='Bandit 3')\n",
    "\n",
    "button_reset.on_click(reset_bandit_problem)\n",
    "button_0.on_click(bandit_selected)\n",
    "button_1.on_click(bandit_selected)\n",
    "button_2.on_click(bandit_selected)\n",
    "button_3.on_click(bandit_selected)\n",
    "\n",
    "all_buttons = widgets.HBox([button_reset, button_0, button_1, button_2, button_3])\n",
    "display(widgets.VBox([all_buttons, output_4]))\n",
    "hide_toggle(for_next=False)"
   ]
  },
  {
   "cell_type": "markdown",
   "id": "52435dc8",
   "metadata": {
    "slideshow": {
     "slide_type": "slide"
    }
   },
   "source": [
    "# Acquisition Functions\n",
    "$$\n",
    "\\alpha(x): \\mathscr{X} \\rightarrow \\mathbb{R}\n",
    "$$\n",
    "### Aim:\n",
    "\n",
    "Maps an arbitrary query point $x$ to a measure of quality of the experiment.\n",
    "\n",
    "### Important considerations:\n",
    "\n",
    "1. **Computationally Efficiency**\n",
    "\n",
    "2. **Consistency**\n",
    "\n"
   ]
  },
  {
   "cell_type": "markdown",
   "id": "661350ad",
   "metadata": {
    "slideshow": {
     "slide_type": "slide"
    }
   },
   "source": [
    "## GP Upper (lower) Confidence Band\n",
    "\n",
    "$$\n",
    "\\scriptsize{\n",
    "\\alpha_{UCB}(x) = \\mu(\\mathbf{x}) + + \\beta_{n} \\sigma(\\mathbf{x})}\n",
    "$$\n",
    "\n",
    "<center>\n",
    "<img src=\"./images/UCB.png\" alt=\"expected improvement\" width=\"500\">\n",
    "<center>"
   ]
  },
  {
   "cell_type": "markdown",
   "id": "800b998c",
   "metadata": {
    "slideshow": {
     "slide_type": "slide"
    }
   },
   "source": [
    "## Expected Improvement\n",
    "$$\n",
    "\\scriptsize{\n",
    "\\begin{align*}\n",
    "\\alpha_{EI}(x) &= \\mathbb{E}_{y}[max(0, y - y_{best})] \\\\\n",
    "&= \\alpha_{EI}(x)  = (\\mu(x) - f_{\\text{best}}) \\Phi \\bigg( \\frac{\\mu(x) - f_{\\text{best}}}{\\sigma(x)} \\bigg) + \\sigma(x) \\phi \\bigg( \\frac{\\mu(x) - f_{\\text{best}}}{\\sigma(x)} \\bigg)\n",
    "\\end{align*}}\n",
    "$$\n",
    "<center>\n",
    "<img src=\"./images/expected_improvement.png\" alt=\"expected improvement\" width=\"500\">\n",
    "<center>"
   ]
  },
  {
   "cell_type": "markdown",
   "id": "62f992a4",
   "metadata": {
    "slideshow": {
     "slide_type": "slide"
    }
   },
   "source": [
    "## Entropy search and Predictive Entropy search\n",
    "\n",
    "$$\n",
    "\\alpha_{ES} = H[p(x_{max}| \\mathscr{D})] - \\mathbb{E}_{p(y|\\mathscr{D}, x)}[ H[p(x_{max}| \\mathscr{D} \\cup \\{x, y\\})]]\n",
    "$$\n",
    "\n",
    "- Information theoretic approaches: reduce the entropy of p(xmin).\n",
    "- Same acquisition, two different approximations (ES, PES).\n",
    "- Approximating p($x_{min}$) is not trivial."
   ]
  },
  {
   "cell_type": "markdown",
   "id": "67236e86",
   "metadata": {
    "slideshow": {
     "slide_type": "slide"
    }
   },
   "source": [
    "## Thompson sampling\n",
    "\n",
    "$$\n",
    "\\alpha_{THOMP}(x) = g(x), \\text{where g(x) is sampled from }GP(\\mu(x), k(x,x'))\n",
    "$$\n",
    "\n",
    "<center>\n",
    "<img src=\"./images/thompsom_sampling.png\" alt=\"thompson sampling\" width=\"500\">\n",
    "<center>"
   ]
  },
  {
   "cell_type": "markdown",
   "id": "948f72c8",
   "metadata": {
    "slideshow": {
     "slide_type": "slide"
    }
   },
   "source": [
    "## Other acquisition functions\n",
    "\n",
    "Each acquisition balances exploration-exploitation in a different way. No universal best method.\n",
    "\n",
    "Others:\n",
    "- Probability of improvement.\n",
    "- Knowledge gradient.\n",
    "- etc."
   ]
  },
  {
   "cell_type": "markdown",
   "id": "ae60b730",
   "metadata": {
    "slideshow": {
     "slide_type": "slide"
    }
   },
   "source": [
    "## Bayesian Optimization Algorithm\n",
    "\n",
    "0. Collect initial data and fit a Gaussian process.\n",
    "1. While the budget is not over:\n",
    "    - Compute $x_{new} = \\text{argmax}_{x \\in \\mathscr{X}} \\alpha(x)$\n",
    "    - Update daset, $\\mathscr{D}^{new} = \\mathscr{D}^{old} \\cup \\{(x, y)_{new}\\}$\n",
    "    - Update Gaussian process to $\\mathscr{D}^{new}$.\n",
    "    - Update budget consumed\n",
    "2. Recommend best found or estimated solution."
   ]
  },
  {
   "cell_type": "code",
   "execution_count": 10,
   "id": "83e3e97d",
   "metadata": {
    "slideshow": {
     "slide_type": "subslide"
    }
   },
   "outputs": [
    {
     "data": {
      "application/vnd.jupyter.widget-view+json": {
       "model_id": "25e00f01fabe404a9c9ae3772ec2439b",
       "version_major": 2,
       "version_minor": 0
      },
      "text/plain": [
       "VBox(children=(IntText(value=0, description='BO samples:'), Output()))"
      ]
     },
     "metadata": {},
     "output_type": "display_data"
    },
    {
     "data": {
      "text/html": [
       "\n",
       "        <script>\n",
       "            function code_toggle_3417043777290243454() {\n",
       "                $('div.cell.code_cell.rendered.selected').find('div.input').toggle();\n",
       "            }\n",
       "\n",
       "            \n",
       "        </script>\n",
       "\n",
       "        <a href=\"javascript:code_toggle_3417043777290243454()\">Toggle show/hide</a>\n",
       "    "
      ],
      "text/plain": [
       "<IPython.core.display.HTML object>"
      ]
     },
     "execution_count": 10,
     "metadata": {},
     "output_type": "execute_result"
    }
   ],
   "source": [
    "output_5 = widgets.Output()\n",
    "budget = 0\n",
    "bo_optimizer = bayesian_optimization_logic(\"ei\",expensive_function, n = budget)\n",
    "\n",
    "def number_of_samples_changed_bo(number_of_samples):\n",
    "    with output_5:\n",
    "        output_5.clear_output(wait=True)    \n",
    "        bo_optimizer.update_n(number_of_samples)\n",
    "        bo_optimizer.optimization_main()\n",
    "        plt.show()\n",
    "            \n",
    "\n",
    "intBoxBO = widgets.IntText(value=budget,description='BO samples:')\n",
    "intBoxBO.observe(lambda event: number_of_samples_changed_bo(event['new']), names='value')\n",
    "\n",
    "display(widgets.VBox([intBoxBO, output_5]))\n",
    "number_of_samples_changed_bo(0)\n",
    "\n",
    "hide_toggle()"
   ]
  },
  {
   "cell_type": "markdown",
   "id": "15bd58e3",
   "metadata": {
    "slideshow": {
     "slide_type": "slide"
    }
   },
   "source": [
    "## Summary of Standard Bayesian Optimization\n",
    "\n",
    "<br>\n",
    "\n",
    "- Simple algorithm, multiple applications.\n",
    "\n",
    "- Performs global optimization\n",
    "\n",
    "- Decent calibration of exploration-exploitation\n"
   ]
  },
  {
   "cell_type": "markdown",
   "id": "e904c327",
   "metadata": {
    "slideshow": {
     "slide_type": "slide"
    }
   },
   "source": [
    "# Bayesian Optimization with Constraints\n",
    "\n",
    "Consider a function $f : \\mathcal{X} \\rightarrow \\mathbb{R}$ in a bounded domain  $\\mathcal{X} \\subseteq \\mathbb{R}^D $. We aim to,\n",
    "\n",
    "\\begin{align*}\n",
    "x^* &= \\text{argmax}_{x \\in \\mathcal{X}} f(x) \\\\\n",
    "    &s.t. c_{k}(x) \\leq v_k \\text{ for all } k \\in \\{1, \\dots, K \\}\n",
    "\\end{align*}\n",
    "\n",
    "<br>\n",
    "\n",
    "Constraints are **black-box Function**, **expensive**, and potentially **noisy**"
   ]
  },
  {
   "cell_type": "code",
   "execution_count": 11,
   "id": "0aeaa15b",
   "metadata": {
    "slideshow": {
     "slide_type": "skip"
    }
   },
   "outputs": [],
   "source": [
    "def constraint_1_function(x):\n",
    "    return np.sin(x)\n",
    "\n",
    "def constraint_2_function(x):\n",
    "    return np.abs(np.sin(x) * np.cos(x))\n",
    "\n",
    "def constrained_evaluation(x):\n",
    "    y = expensive_function(x)\n",
    "    c1 = constraint_1_function(x)\n",
    "    c2 = constraint_2_function(x)\n",
    "    return y, c1, c2\n",
    "\n",
    "x = np.linspace(-2.7, 7.5, 100)\n",
    "y, c1, c2 = constrained_evaluation(x)\n",
    "\n",
    "def segment_extractor(x_values, n_plot_points, delta):\n",
    "    all_segments = []\n",
    "    individual_segment = []\n",
    "    for idx, xi in enumerate(x_values):\n",
    "        individual_segment.append(xi)\n",
    "        if idx + 1 == len(x_values):\n",
    "            all_segments.append(individual_segment)\n",
    "        elif (x_values[idx + 1] - x_values[idx])/n_plot_points > delta :\n",
    "            all_segments.append(individual_segment)\n",
    "            individual_segment = []\n",
    "    return all_segments\n",
    "\n",
    "class plot_constrained_black_box():\n",
    "    def __init__(self, c1_limit, c2_limit):\n",
    "        self.c1_limit = c1_limit\n",
    "        self.c2_limit = c2_limit\n",
    "        self.collected_x = []\n",
    "        self.collected_y = []\n",
    "        self.collected_feas = []\n",
    "        \n",
    "    def plot_sampling_decision(self, x):\n",
    "        lb = -2.7\n",
    "        ub = 7.5\n",
    "\n",
    "        y, c1, c2 = constrained_evaluation(x)\n",
    "\n",
    "        n_plot_points = 200\n",
    "        x_plot = np.linspace(lb, ub , n_plot_points)\n",
    "        delta = (x_plot[1] - x_plot[0])/n_plot_points + 1e-4\n",
    "        y_plot, c1_plot, c2_plot = constrained_evaluation(x_plot)\n",
    "\n",
    "        sn.set_style(\"darkgrid\")\n",
    "        fig, axs = plt.subplots(4, 1, figsize=(10, 5))\n",
    "        axs[0].plot(x_plot,  y_plot, color=\"black\", alpha=0.5,linestyle=\"--\")\n",
    "        axs[0].scatter(x, y, color=\"black\",facecolors='white', edgecolors='black',s=40)\n",
    "        axs[0].set_xlim(lb, ub)\n",
    "        axs[0].set_ylabel(\"f\")\n",
    "        axs[0].set_xlabel(\"$X$\")\n",
    "\n",
    "        axs[1].plot(x_plot,  c1_plot, color=\"black\", alpha=0.5,linestyle=\"--\")\n",
    "        axs[1].scatter(x, c1, color=\"black\",facecolors='white', edgecolors='black',s=40)\n",
    "        axs[1].axhline(self.c1_limit, color='r', linestyle='--')\n",
    "        axs[1].fill_between(x_plot, self.c1_limit, 1.2, color='red', alpha=0.1)\n",
    "        axs[1].fill_between(x_plot, self.c1_limit, -1.2, color='green', alpha=0.1)\n",
    "        axs[1].set_xlim(lb, ub)\n",
    "        axs[1].set_ylabel(\"c1\")\n",
    "        axs[1].set_xlabel(\"$X$\")\n",
    "\n",
    "        axs[2].plot(x_plot,  c2_plot, color=\"black\", alpha=0.5,linestyle=\"--\")\n",
    "        axs[2].scatter(x, c2, color=\"black\",facecolors='white', edgecolors='black',s=40)\n",
    "        axs[2].axhline(self.c2_limit, color='r', linestyle='--')\n",
    "        axs[2].fill_between(x_plot, self.c2_limit, 0.5, color='red', alpha=0.1)\n",
    "        axs[2].fill_between(x_plot, self.c2_limit, 0.0, color='green', alpha=0.1)\n",
    "        axs[2].set_xlim(lb, ub)\n",
    "        axs[2].set_ylabel(\"c2\")\n",
    "        axs[2].set_xlabel(\"$X$\")\n",
    "\n",
    "        x_plot_feas = x_plot[np.logical_and(c1_plot <= self.c1_limit , c2_plot <= self.c2_limit)]\n",
    "        x_plot_unfeas = x_plot[np.logical_or(c1_plot > self.c1_limit , c2_plot > self.c2_limit) ]\n",
    "        self.collected_x.append(x)\n",
    "        self.collected_y.append(y)\n",
    "        self.collected_feas.append(np.logical_and(c1 <= self.c1_limit , c2 <= self.c2_limit ))\n",
    "        \n",
    "        for s in segment_extractor(x_plot_feas, n_plot_points, delta):\n",
    "            y_plot_feas_segment, _, _ = constrained_evaluation(np.array(s))\n",
    "            axs[3].plot(np.array(s),  y_plot_feas_segment, color=\"green\", alpha=0.5,linestyle=\"--\")\n",
    "\n",
    "        for s in segment_extractor(x_plot_unfeas, n_plot_points, delta):\n",
    "            y_plot_unfeas_segment, _, _ = constrained_evaluation(np.array(s))\n",
    "            axs[3].plot(np.array(s),  y_plot_unfeas_segment, color=\"red\", alpha=0.5,linestyle=\"--\")\n",
    "        \n",
    "        for idx, xi in enumerate(self.collected_x):\n",
    "            axs[3].scatter(xi, \n",
    "                           self.collected_y[idx], \n",
    "                           color=\"black\",\n",
    "                           facecolors='green' if self.collected_feas[idx] else \"red\", \n",
    "                           edgecolors='black',\n",
    "                           s=40)\n",
    "            \n",
    "        axs[3].set_xlim(lb, ub)\n",
    "        axs[3].set_ylabel(\"constrained black-box\")\n",
    "        axs[3].set_xlabel(\"$X$\")"
   ]
  },
  {
   "cell_type": "code",
   "execution_count": 12,
   "id": "602ac69c",
   "metadata": {
    "scrolled": false,
    "slideshow": {
     "slide_type": "subslide"
    }
   },
   "outputs": [
    {
     "data": {
      "application/vnd.jupyter.widget-view+json": {
       "model_id": "642b3330d1694f7fa65ccd250d5a98d9",
       "version_major": 2,
       "version_minor": 0
      },
      "text/plain": [
       "VBox(children=(FloatText(value=0.0, description='x:'), Output()))"
      ]
     },
     "metadata": {},
     "output_type": "display_data"
    },
    {
     "data": {
      "text/html": [
       "\n",
       "        <script>\n",
       "            function code_toggle_8117604305041825156() {\n",
       "                $('div.cell.code_cell.rendered.selected').find('div.input').toggle();\n",
       "            }\n",
       "\n",
       "            \n",
       "        </script>\n",
       "\n",
       "        <a href=\"javascript:code_toggle_8117604305041825156()\">Toggle show/hide</a>\n",
       "    "
      ],
      "text/plain": [
       "<IPython.core.display.HTML object>"
      ]
     },
     "execution_count": 12,
     "metadata": {},
     "output_type": "execute_result"
    }
   ],
   "source": [
    "output_6 = widgets.Output()\n",
    "constrained_black_box = plot_constrained_black_box(0.5, 0.3)\n",
    "\n",
    "def location_changed_bo(x_location):\n",
    "    with output_6:\n",
    "        output_6.clear_output(wait=True)    \n",
    "        constrained_black_box.plot_sampling_decision(x_location)\n",
    "        plt.show()\n",
    "            \n",
    "\n",
    "floatBoxBO = widgets.FloatText(value=0.0, description='x:')\n",
    "floatBoxBO.observe(lambda event: location_changed_bo(event['new']), names='value')\n",
    "\n",
    "display(widgets.VBox([floatBoxBO, output_6]))\n",
    "hide_toggle()"
   ]
  },
  {
   "cell_type": "markdown",
   "id": "0f01997f",
   "metadata": {
    "slideshow": {
     "slide_type": "slide"
    }
   },
   "source": [
    "# Bayesian Optimization with Constraints\n",
    "\n",
    "$$\n",
    "\\text{PF}(x) = \\mathbb{P}(c_{i}(x) \\leq v_i) = \\Phi \\bigg(\\frac{v_i - \\mu^n_{k}(x)}{\\sqrt{k_{k}^n(x, x)}} \\bigg)\n",
    "$$\n",
    "\n",
    "- PF represents a score between (0, 1) that measures the feasibility of a point location $x$.\n",
    "- More feasible designs would tend to 1.\n",
    "- More infeasible designs would tend to 0."
   ]
  },
  {
   "cell_type": "code",
   "execution_count": 25,
   "id": "34867d45",
   "metadata": {
    "slideshow": {
     "slide_type": "skip"
    }
   },
   "outputs": [],
   "source": [
    "from scipy.stats import norm\n",
    "\n",
    "def probability_of_feasibility(gp_model, candidate_points, constraint_threshold):\n",
    "    # Predict mean and variance of the function at candidate points\n",
    "    mean, std = gp_model.predict(candidate_points)\n",
    "\n",
    "    # Compute probability of feasibility using cumulative distribution function (CDF)\n",
    "    z_scores = (constraint_threshold - mean) / std \n",
    "    probabilities = norm.cdf(z_scores)  \n",
    "    return probabilities\n",
    "\n",
    "class GaussianProcessRegressor:\n",
    "    def __init__(self, kernel, sigma_noise=1e-6):\n",
    "        self.kernel = kernel\n",
    "        self.sigma_noise = sigma_noise\n",
    "\n",
    "    def fit(self, X, y):\n",
    "        self.X_train = X\n",
    "        self.y_train = y\n",
    "        self.K = self.kernel(self.X_train, self.X_train)\n",
    "        self.K += np.eye(len(self.X_train)) * self.sigma_noise  # Adding noise to the diagonal for numerical stability\n",
    "        self.K_inv = np.linalg.inv(self.K)\n",
    "\n",
    "    def predict(self, X_test):\n",
    "        K_s = self.kernel(self.X_train, X_test)\n",
    "        mu_s = K_s.T.dot(self.K_inv).dot(self.y_train)\n",
    "        cov_s = self.kernel(X_test, X_test) - K_s.T.dot(self.K_inv).dot(K_s)\n",
    "        return mu_s.reshape(-1), np.sqrt(np.diag(cov_s))\n",
    "\n",
    "def kernel(length_scale, sigma_f):\n",
    "    def rbf_kernel(X1, X2):\n",
    "        sq_dist = np.sum(X1**2, axis=1).reshape(-1, 1) + np.sum(X2**2, axis=1) - 2 * np.dot(X1, X2.T)\n",
    "        return sigma_f**2 * np.exp(-(0.5 / length_scale**2) * sq_dist)\n",
    "    return rbf_kernel\n",
    "\n",
    "class plot_constrained_model():\n",
    "    def __init__(self, c1_limit):\n",
    "        self.c1_limit = c1_limit\n",
    "        \n",
    "    def plot(self, x_evaluation):\n",
    "        lb, ub = -2.7, 7.5\n",
    "        # Create Gaussian Process Regressor\n",
    "        rbf_kernel = kernel(1, sigma_f=1)\n",
    "        gp = GaussianProcessRegressor(kernel=rbf_kernel, sigma_noise=1e-6)\n",
    "\n",
    "        # Fit the model\n",
    "        X_test = np.linspace(-2.7, 7.5, 100).reshape(-1, 1)\n",
    "        X_train = np.array([-2, -1, 1, 4.5]).reshape(-1, 1)\n",
    "        y, c1_train, c2_train = constrained_evaluation(X_train)\n",
    "        y_plot, c1_plot, c2_plot = constrained_evaluation(X_test)\n",
    "        gp.fit(X_train, c1_train)\n",
    "\n",
    "        # Make predictions\n",
    "        y_pred_mean, y_pred_std = gp.predict(X_test)\n",
    "        PF = probability_of_feasibility(gp, X_test, self.c1_limit)\n",
    "        \n",
    "        sn.set_style(\"darkgrid\")\n",
    "        fig, axs = plt.subplots(2, 1, figsize=(10, 5))\n",
    "\n",
    "        mu_at_x, std_at_x = gp.predict(np.array([[x_evaluation]]))\n",
    "        mu_plot_lb, mu_plot_ub = mu_at_x - 3 * std_at_x , mu_at_x + 3 * std_at_x\n",
    "        mu_plot_range = np.linspace(mu_plot_lb, mu_plot_ub, 100)\n",
    "        \n",
    "        mu_plot_feas_range =  mu_plot_range[mu_plot_range < self.c1_limit]\n",
    "        mu_plot_unfeas_range =  mu_plot_range[mu_plot_range > self.c1_limit]\n",
    "        data_feas = norm.pdf(mu_plot_feas_range, mu_at_x, std_at_x)\n",
    "        data_unfeas = norm.pdf(mu_plot_unfeas_range, mu_at_x, std_at_x)\n",
    "        axs[0].fill_betweenx(mu_plot_feas_range.reshape(-1), np.array([x_evaluation]*len(mu_plot_feas_range)).reshape(-1),  np.array(data_feas + x_evaluation).reshape(-1), color=\"green\", alpha=0.4)\n",
    "        axs[0].fill_betweenx(mu_plot_unfeas_range.reshape(-1), np.array([x_evaluation]*len(mu_plot_unfeas_range)).reshape(-1),  np.array(data_unfeas + x_evaluation).reshape(-1), color=\"red\", alpha=0.4)\n",
    "        \n",
    "        axs[0].plot(X_test,  c1_plot, color=\"black\", alpha=0.5,linestyle=\"--\")\n",
    "        axs[0].scatter(X_train, c1_train, color=\"black\", facecolors='white', edgecolors='black',s=40)\n",
    "        axs[0].plot(X_test, y_pred_mean, linestyle=\"--\", color=\"salmon\")\n",
    "        axs[0].fill_between(X_test.reshape(-1), y_pred_mean - 1.96*y_pred_std, y_pred_mean + 1.96*y_pred_std, alpha=0.3, color=\"salmon\")\n",
    "        axs[0].axhline(self.c1_limit, color='r', linestyle='--')\n",
    "        axs[0].axvline(x_evaluation, -2.5, 2.5, color=\"green\", linestyle=\"--\")\n",
    "        axs[0].set_xlim(lb, ub)\n",
    "        axs[0].set_ylabel(\"c1\")\n",
    "        axs[0].set_xlabel(\"$X$\")\n",
    "        axs[0].set_ylim(-2.2, 2.2)\n",
    "\n",
    "        axs[1].axvline(x_evaluation, 0, 1, color=\"green\", linestyle=\"--\")\n",
    "        axs[1].plot(X_test.reshape(-1), PF)\n",
    "        axs[1].set_xlabel(\"$X$\")\n",
    "        axs[1].set_ylabel(\"PF\")\n",
    "        axs[1].set_xlim(lb, ub)\n",
    "        plt.show()"
   ]
  },
  {
   "cell_type": "code",
   "execution_count": 26,
   "id": "fcd2eea5",
   "metadata": {
    "slideshow": {
     "slide_type": "subslide"
    }
   },
   "outputs": [
    {
     "data": {
      "application/vnd.jupyter.widget-view+json": {
       "model_id": "1756da1782ef4deaa7017a0d50eb1fc9",
       "version_major": 2,
       "version_minor": 0
      },
      "text/plain": [
       "interactive(children=(FloatSlider(value=0.0, description='$x$', max=7.0, min=-2.7), Output()), _dom_classes=('…"
      ]
     },
     "metadata": {},
     "output_type": "display_data"
    },
    {
     "data": {
      "text/html": [
       "\n",
       "        <script>\n",
       "            function code_toggle_1791631714327645825() {\n",
       "                $('div.cell.code_cell.rendered.selected').find('div.input').toggle();\n",
       "            }\n",
       "\n",
       "            \n",
       "        </script>\n",
       "\n",
       "        <a href=\"javascript:code_toggle_1791631714327645825()\">Toggle show/hide</a>\n",
       "    "
      ],
      "text/plain": [
       "<IPython.core.display.HTML object>"
      ]
     },
     "execution_count": 26,
     "metadata": {},
     "output_type": "execute_result"
    }
   ],
   "source": [
    "plot_constraints = plot_constrained_model(0.5)\n",
    "\n",
    "widget = interact(plot_constraints.plot,\n",
    "         x_evaluation=FloatSlider(value=0.0, min=-2.7, max=7, step=0.1, description='$x$'),)\n",
    "\n",
    "\n",
    "hide_toggle()"
   ]
  },
  {
   "cell_type": "markdown",
   "id": "42dc30b7",
   "metadata": {
    "slideshow": {
     "slide_type": "slide"
    }
   },
   "source": [
    "# Bayesian Optimization with Constraints\n",
    "\n",
    "We may adapt any acquisition function to constrained problems by,\n",
    "\n",
    "$$\n",
    "\\alpha_{cons}(x) =  \\alpha_{uncons}(x) \\prod^{K}_{k=1} \\text{PF}^{k}(x)\n",
    "$$\n",
    "\n",
    "- Likely unfeasible regions are discouraged.\n",
    "- Gives some importance to sampling unfeasible locations.\n",
    "- Hard to sample on the feasibility boundary."
   ]
  },
  {
   "cell_type": "code",
   "execution_count": 15,
   "id": "5afd6701",
   "metadata": {
    "slideshow": {
     "slide_type": "subslide"
    }
   },
   "outputs": [
    {
     "data": {
      "image/png": "[encoded data removed]",
      "text/plain": [
       "<Figure size 1000x500 with 6 Axes>"
      ]
     },
     "metadata": {},
     "output_type": "display_data"
    },
    {
     "data": {
      "text/html": [
       "\n",
       "        <script>\n",
       "            function code_toggle_8425352265564410564() {\n",
       "                $('div.cell.code_cell.rendered.selected').find('div.input').toggle();\n",
       "            }\n",
       "\n",
       "            \n",
       "        </script>\n",
       "\n",
       "        <a href=\"javascript:code_toggle_8425352265564410564()\">Toggle show/hide</a>\n",
       "    "
      ],
      "text/plain": [
       "<IPython.core.display.HTML object>"
      ]
     },
     "execution_count": 15,
     "metadata": {},
     "output_type": "execute_result"
    }
   ],
   "source": [
    "class plot_constrained_ei():\n",
    "    def __init__(self, c1_limit, c2_limit):\n",
    "        self.c1_limit = c1_limit\n",
    "        self.c2_limit = c2_limit\n",
    "        \n",
    "    def plot(self):\n",
    "        lb, ub = -2.7, 7.5\n",
    "        # Create Gaussian Process Regressor\n",
    "        rbf_kernel = kernel(1, sigma_f=1)\n",
    "        gp_f = GaussianProcessRegressor(kernel=rbf_kernel, sigma_noise=1e-6)\n",
    "        gp_c1 = GaussianProcessRegressor(kernel=rbf_kernel, sigma_noise=1e-6)\n",
    "        gp_c2 = GaussianProcessRegressor(kernel=rbf_kernel, sigma_noise=1e-6)\n",
    "        \n",
    "        # Fit the model\n",
    "        X_test = np.linspace(-2.7, 7.5, 100).reshape(-1, 1)\n",
    "        X_train = np.array([-2, -1, 1, 4.5]).reshape(-1, 1)\n",
    "        y, c1, c2 = constrained_evaluation(X_train)\n",
    "        max_val = np.max(y[np.logical_and(c1 < self.c1_limit , c2 < self.c2_limit).reshape(-1)])\n",
    "        gp_f.fit(X_train, y)\n",
    "        gp_c1.fit(X_train, c1)\n",
    "        gp_c2.fit(X_train, c2)\n",
    "        # Make predictions\n",
    "        y_pred_mean, y_pred_std = gp_f.predict(X_test)\n",
    "        c1_pred_mean, c1_pred_std = gp_c1.predict(X_test)\n",
    "        c2_pred_mean, c2_pred_std = gp_c2.predict(X_test)\n",
    "        PF_c1 = probability_of_feasibility(gp_c1, X_test, self.c1_limit)\n",
    "        PF_c2 = probability_of_feasibility(gp_c2, X_test, self.c2_limit)\n",
    "        ei = expected_improvement(gp_f, max_val)\n",
    "        ei_vals = -ei.evaluate(X_test)\n",
    "        overall_PF = PF_c1 * PF_c2\n",
    "        \n",
    "        y_plot, x1_plot, c2_plot = constrained_evaluation(X_test)\n",
    "        # Create a figure and a set of subplots\n",
    "        sn.set_style(\"darkgrid\")\n",
    "        fig, axs = plt.subplots(3, 3, figsize=(10, 5))\n",
    "\n",
    "        # Plot something on the left side\n",
    "        axs[1, 0].plot(X_test, y_pred_mean, linestyle=\"--\", color=\"salmon\")\n",
    "        axs[1, 0].fill_between(X_test.reshape(-1), y_pred_mean - 1.96*y_pred_std, y_pred_mean + 1.96*y_pred_std, alpha=0.3, color=\"salmon\")\n",
    "        axs[1, 0].scatter(X_train, y, color=\"black\", facecolors='white', edgecolors='black',s=40)\n",
    "        axs[1, 0].set_xlim(lb, ub)\n",
    "        axs[1, 0].set_title(\"Output $f(x)$\")\n",
    "        axs[2, 0].plot(X_test, ei_vals)\n",
    "        axs[2, 0].set_xlim(lb, ub)\n",
    "        axs[2, 0].set_title(\"ei(x)\")\n",
    "        \n",
    "        # Plot something in the center\n",
    "        axs[0, 1].plot(X_test, c1_pred_mean, linestyle=\"--\", color=\"salmon\")\n",
    "        axs[0, 1].fill_between(X_test.reshape(-1), c1_pred_mean - 1.96*c1_pred_std, c1_pred_mean + 1.96*c1_pred_std, alpha=0.3, color=\"salmon\")\n",
    "        axs[0, 1].scatter(X_train, c1, color=\"black\", facecolors='white', edgecolors='black',s=40)\n",
    "        axs[0, 1].axhline(self.c1_limit, color='r', linestyle='--')\n",
    "        axs[0, 1].set_title(\"Constraint $c_{1}(x)$\")\n",
    "        axs[0, 1].set_xlim(lb, ub)\n",
    "        \n",
    "        axs[1, 1].plot(X_test, c2_pred_mean, linestyle=\"--\", color=\"salmon\")\n",
    "        axs[1, 1].fill_between(X_test.reshape(-1), c2_pred_mean - 1.96*c2_pred_std, c2_pred_mean + 1.96*c2_pred_std, alpha=0.3, color=\"salmon\")\n",
    "        axs[1, 1].scatter(X_train, c2, color=\"black\", facecolors='white', edgecolors='black',s=40)\n",
    "        axs[1, 1].axhline(self.c2_limit, color='r', linestyle='--')\n",
    "        axs[1, 1].set_title(\"Constraint $c_{2}(x)$\")\n",
    "        axs[1, 1].set_xlim(lb, ub)\n",
    "        \n",
    "        axs[2, 1].set_title(\"$\\prod^{K}_{k=1} PF^{k}(x)$\")\n",
    "        axs[2, 1].plot(X_test, overall_PF)\n",
    "        axs[2, 1].set_xlim(lb, ub)\n",
    "        \n",
    "        # Plot something on the right side\n",
    "        axs[2, 2].plot(X_test, ei_vals*overall_PF)\n",
    "        axs[2, 2].set_title(\"ei(x) $\\prod^{K}_{k=1} PF^{k}(x)$\")\n",
    "        axs[2, 2].set_xlim(lb, ub)\n",
    "        \n",
    "        axs[0, 0].remove()\n",
    "        axs[1, 2].remove()\n",
    "        axs[0, 2].remove()\n",
    "        \n",
    "        plt.tight_layout()\n",
    "        plt.show()\n",
    "        \n",
    "plot_constrained_ei(0.5, 0.3).plot()\n",
    "hide_toggle()"
   ]
  },
  {
   "cell_type": "markdown",
   "id": "2280a260",
   "metadata": {
    "slideshow": {
     "slide_type": "slide"
    }
   },
   "source": [
    "# Bayesian Optimization with multiple objectives\n",
    "\n",
    "$$\n",
    "\\max_{x \\in \\mathscr{X}} f_{1}(x), \\dots, f_{M}(x)\n",
    "$$\n",
    "\n",
    "- Trade-off between the different objectives.\n",
    "- Each function may be an expensive-to-optimize function.\n"
   ]
  },
  {
   "cell_type": "code",
   "execution_count": 16,
   "id": "ac5403b5",
   "metadata": {
    "slideshow": {
     "slide_type": "skip"
    }
   },
   "outputs": [],
   "source": [
    "import numpy as np\n",
    "import matplotlib.pyplot as plt\n",
    "\n",
    "# Define the objectives function\n",
    "def objectives(x):\n",
    "    x1 = x[:, 0]\n",
    "    x2 = x[:, 1]\n",
    "    f1 = x1**2 + x2**2\n",
    "    f2 = (x1 - 1)**2 + (x2 - 1)**2\n",
    "    return -np.column_stack((f1, f2)) + 17.5\n",
    "\n",
    "def domination_x1_x2(x1, x2):\n",
    "    if all(x1_i >= x2_i for x1_i, x2_i in zip(x1, x2)):\n",
    "        if any(x1_i > x2_i for x1_i, x2_i in zip(x1, x2)):\n",
    "            return True\n",
    "    return False\n",
    "\n",
    "def dominated_by_set(x1, x_set):\n",
    "    for xi in x_set:\n",
    "        if domination_x1_x2(xi, x1):\n",
    "            return True\n",
    "    return False\n",
    "\n",
    "class plot_multi_objective():\n",
    "    def __init__(self,):\n",
    "        pass\n",
    "    \n",
    "    def plot(self, x_new_1, x_new_2):\n",
    "        X_sampled = np.array([[1.5,-0.9],\n",
    "                             [-1.5,0.5],\n",
    "                             [0.5, 2.5]])\n",
    "        x_new = np.array([[x_new_1, x_new_2]])\n",
    "        # Generate input points\n",
    "        n_points_x1 = 100\n",
    "        n_points_x2 = 100\n",
    "        x1_range = np.linspace(-2, 3, n_points_x1)\n",
    "        x2_range = np.linspace(-2, 3, n_points_x2)\n",
    "        X1, X2 = np.meshgrid(x1_range, x2_range)\n",
    "        input_points = np.column_stack((X1.ravel(), X2.ravel()))\n",
    "\n",
    "        # Compute objectives\n",
    "        objectives_values = objectives(input_points)\n",
    "        y_sampled = objectives(X_sampled)\n",
    "        f_new = objectives(x_new)\n",
    "\n",
    "        # Plot solid input space\n",
    "        fig, axs = plt.subplots(1, 2, figsize=(10, 5))\n",
    "        axs[0].contourf(X1, X2, np.reshape(np.array([1]*n_points_x2 * n_points_x1), X1.shape), cmap='Blues')\n",
    "        axs[0].scatter(x_new[:,0], x_new[:,1], color=\"black\")\n",
    "        axs[0].scatter(X_sampled[:,0], X_sampled[:,1], color=\"red\")\n",
    "            \n",
    "        axs[0].set_title('Input Space')\n",
    "        axs[0].set_xlabel('$X_1$')\n",
    "        axs[0].set_ylabel('$X_2$')\n",
    "        axs[0].set_ylim(-2.5, 3.5)\n",
    "        axs[0].set_xlim(-2.5, 3.5)\n",
    "        axs[0].grid(True)\n",
    "\n",
    "        # Plot output space (objectives)\n",
    "        all_points = np.concatenate([y_sampled, f_new])\n",
    "        for idx, yi in enumerate(y_sampled):\n",
    "            n_base_points = 3\n",
    "            x_fill_between = np.linspace(-1, yi[0], n_base_points)\n",
    "            color = \"red\" if dominated_by_set(yi, all_points) else \"green\"\n",
    "            axs[0].scatter(X_sampled[idx,0], X_sampled[idx,1], facecolor=color, edgecolors='black', zorder =25)\n",
    "            \n",
    "            axs[1].fill_between(x_fill_between, \n",
    "                                np.array([-1]*n_base_points), \n",
    "                                np.array([yi[1]]*n_base_points), \n",
    "                                color=\"grey\", \n",
    "                                alpha=0.2, \n",
    "                                zorder=20)\n",
    "\n",
    "            axs[1].scatter(yi[0], yi[1], \n",
    "                           facecolor=color,  \n",
    "                           edgecolors='black', zorder =25)\n",
    "            \n",
    "        axs[1].scatter(objectives_values[:, 0], objectives_values[:, 1], \n",
    "                       c='lightblue', \n",
    "                       marker='.', \n",
    "                       alpha=0.3, \n",
    "                       s=180)\n",
    "        axs[0].scatter(x_new[:,0], x_new[:,1], \n",
    "                       color=\"red\" if dominated_by_set(f_new.reshape(-1), y_sampled) else \"green\",\n",
    "                      edgecolors='black')\n",
    "        axs[1].scatter(f_new[:,0], f_new[:,1], \n",
    "                       facecolors=\"red\" if dominated_by_set(f_new.reshape(-1), y_sampled) else \"green\", \n",
    "                       edgecolors='black',zorder=30)\n",
    "        axs[1].set_title('Objective Space')\n",
    "        axs[1].set_xlabel('Objective 1 ($f_1$)')\n",
    "        axs[1].set_ylabel('Objective 2 ($f_2$)')\n",
    "        axs[1].set_xlim(-1, 18)\n",
    "        axs[1].set_ylim(-1, 18)\n",
    "        axs[1].grid(True)\n",
    "        plt.tight_layout()\n",
    "        plt.show()"
   ]
  },
  {
   "cell_type": "code",
   "execution_count": 32,
   "id": "19967d10",
   "metadata": {
    "scrolled": false,
    "slideshow": {
     "slide_type": "subslide"
    }
   },
   "outputs": [
    {
     "data": {
      "application/vnd.jupyter.widget-view+json": {
       "model_id": "54b38249c49b46448a5d23d8445f8479",
       "version_major": 2,
       "version_minor": 0
      },
      "text/plain": [
       "interactive(children=(FloatSlider(value=-1.9, description='$x_1$', max=3.0, min=-2.0), FloatSlider(value=1.0, …"
      ]
     },
     "metadata": {},
     "output_type": "display_data"
    },
    {
     "data": {
      "text/html": [
       "\n",
       "        <script>\n",
       "            function code_toggle_5816708333508155004() {\n",
       "                $('div.cell.code_cell.rendered.selected').find('div.input').toggle();\n",
       "            }\n",
       "\n",
       "            \n",
       "        </script>\n",
       "\n",
       "        <a href=\"javascript:code_toggle_5816708333508155004()\">Toggle show/hide</a>\n",
       "    "
      ],
      "text/plain": [
       "<IPython.core.display.HTML object>"
      ]
     },
     "execution_count": 32,
     "metadata": {},
     "output_type": "execute_result"
    }
   ],
   "source": [
    "plot_multi_objective_object = plot_multi_objective()\n",
    "\n",
    "widget = interact(plot_multi_objective_object.plot,\n",
    "         x_new_1 = FloatSlider(value=-1.9, min=-2, max=3, step=0.1, description='$x_1$'),\n",
    "         x_new_2 = FloatSlider(value=1.0, min=-2, max=3, step=0.1, description='$x_2$'))\n",
    "\n",
    "\n",
    "hide_toggle()"
   ]
  },
  {
   "cell_type": "markdown",
   "id": "77594df4",
   "metadata": {
    "slideshow": {
     "slide_type": "slide"
    }
   },
   "source": [
    "# Bayesian Optimization with multiple objectives:\n",
    "\n",
    "- **Hypervolume based**:\n",
    "    - Computes the volume of the area enclosed by the Pareto front approximation and a reference point.\n",
    "    \n",
    "- **Scalarization based**:\n",
    "    - Objectives may be aggreaged by an scalarization function, e.g., \n",
    "    \n",
    "      $$\n",
    "    U(x) = \\sum_{j=1,\\dots,M} \\theta_{j}f_{j}(x) \\quad, s.t. \\sum_{j=1,\\dots,M} \\theta_{j} = 1\n",
    "    $$   "
   ]
  },
  {
   "cell_type": "code",
   "execution_count": 18,
   "id": "e2b828b1",
   "metadata": {
    "slideshow": {
     "slide_type": "skip"
    }
   },
   "outputs": [],
   "source": [
    "import matplotlib.pyplot as plt\n",
    "\n",
    "# Define the coordinates of the points\n",
    "\n",
    "set_points = np.array([[14.44, 13.64],\n",
    "                         [15. ,  11.  ],\n",
    "                         [11. ,  15.  ]])\n",
    "\n",
    "def plot_region_given_points(points, color_region, alpha, zorder):\n",
    "    base_points = []\n",
    "    # Plot the horizontal and vertical segments\n",
    "    for i in range(len(points) - 1):\n",
    "        x1, y1 = points[i]\n",
    "        x2, y2 = points[i + 1]\n",
    "        if x1 != x2:\n",
    "            base_points.append([x1, y1])\n",
    "            base_points.append([x2, y1])\n",
    "        if y1 != y2:\n",
    "            base_points.append([x2, y1])\n",
    "            base_points.append([x2, y2])\n",
    "\n",
    "    # Connect the last point to the first point\n",
    "    x1, y1 = points[-1]\n",
    "    x2, y2 = points[0]\n",
    "    if x1 != x2:\n",
    "        base_points.append([x1, y1])\n",
    "        base_points.append([x2, y1])\n",
    "    if y1 != y2:\n",
    "        base_points.append([x2, y1])\n",
    "        base_points.append([x2, y2])\n",
    "\n",
    "    # Fill the region inside the rectangles with color\n",
    "    plt.fill(np.array(base_points)[:,0], np.array(base_points)[:,1], color=color_region, alpha=alpha, zorder=zorder)\n",
    "    \n",
    "def plot_region(point, reference_point, set_points):\n",
    "    \n",
    "    points = np.concatenate([reference_point, set_points])\n",
    "    sorted_indices = np.argsort(points[:, 1])\n",
    "    points = points[sorted_indices]\n",
    "    overall_region = np.concatenate([point, reference_point])\n",
    "    # Extract x and y coordinates of the points\n",
    "    x_coords, y_coords = zip(*points)\n",
    "\n",
    "    # Plot the points\n",
    "    for idx, yi in enumerate(set_points):\n",
    "            plt.scatter(yi[0], yi[1], \n",
    "                       facecolor=\"red\" if dominated_by_set(yi, point) else \"green\",  \n",
    "                       edgecolors='black', zorder =25, s=50)\n",
    "    \n",
    "    plt.scatter(point[:,0], point[:,1], \n",
    "               facecolors=\"red\" if dominated_by_set(point.reshape(-1), set_points) else \"green\", \n",
    "               edgecolors='black', marker=\"*\",zorder=30, s=200)\n",
    "    plt.scatter(reference_point[:,0], reference_point[:,1], color=\"black\", marker=\"x\", zorder=30)\n",
    "    plot_region_given_points(overall_region, color_region=\"green\", alpha=1, zorder=10)\n",
    "    plot_region_given_points(points, color_region=\"green\", alpha=1, zorder=10)\n",
    "    \n",
    "\n",
    "    # Set labels and title\n",
    "    plt.xlabel('Objective $f_{1}$')\n",
    "    plt.ylabel('Objective $f_{2}$')\n",
    "    plt.title('Objective Space')\n",
    "    plt.xlim(10, 20)\n",
    "    plt.ylim(10, 20)\n",
    "    plt.grid(True)\n",
    "\n",
    "def plot_utility(point, weight, set_points):\n",
    "    theta_1 = weight\n",
    "    theta_2 = 1- weight\n",
    "    all_designs = np.concatenate([point, set_points])\n",
    "    x = np.linspace(10, 20, 100)\n",
    "    utility = np.sum(all_designs*np.array([theta_1, theta_2]), axis=1)\n",
    "    max_utility_location = all_designs[np.argmax(utility)]\n",
    "    y = -x*(theta_1/theta_2) + (max_utility_location[0] * theta_1 + max_utility_location[1]*theta_2)/theta_2\n",
    "    \n",
    "    plt.plot(x, y, color=\"black\", linestyle=\"--\")\n",
    "     # Plot the points\n",
    "    for idx, yi in enumerate(set_points):\n",
    "            plt.scatter(yi[0], yi[1], \n",
    "                       facecolor=\"red\" if dominated_by_set(yi, point) else \"green\",  \n",
    "                       edgecolors='black', zorder =25, s=50)\n",
    "    \n",
    "    plt.scatter(point[:,0], point[:,1], \n",
    "               facecolors=\"red\" if dominated_by_set(point.reshape(-1), set_points) else \"green\", \n",
    "               edgecolors='black', marker=\"*\",zorder=30, s=200)\n",
    "    # Set labels and title\n",
    "    plt.xlabel('Objective $f_{1}$')\n",
    "    plt.ylabel('Objective $f_{2}$')\n",
    "    plt.title('Objective Space')\n",
    "    plt.xlim(10, 20)\n",
    "    plt.ylim(10, 20)\n",
    "    plt.grid(True)\n",
    "\n",
    "class plot_metrics_multi_objective():\n",
    "    def __init__(self, init_point, reference_point, weight, set_points, method):\n",
    "        self.reference_point = reference_point\n",
    "        self.weight = weight\n",
    "        self.set_points = set_points\n",
    "        self.plotting_method = method\n",
    "        self.x1 = init_point.reshape(-1)[0]\n",
    "        self.x2 = init_point.reshape(-1)[1]\n",
    "        \n",
    "    def update_method(self,method):\n",
    "        self.plotting_method = method\n",
    "        \n",
    "    def plot_hypervolume(self):\n",
    "        self.init_point = np.array([[self.x1, self.x2]])\n",
    "        plot_region(self.init_point, self.reference_point, self.set_points)\n",
    "        plt.show()\n",
    "        \n",
    "    def plot_utility(self):\n",
    "        self.init_point = np.array([[self.x1, self.x2]])\n",
    "        plot_utility(self.init_point, self.weight, self.set_points)\n",
    "        plt.show()\n",
    "        \n",
    "    def update_location_x1(self, x1):\n",
    "        self.x1 = x1\n",
    "        if self.plotting_method == \"hypervolume\":\n",
    "            self.plot_hypervolume()\n",
    "        else:\n",
    "            self.plot_utility()\n",
    "            \n",
    "    def update_location_x2(self, x2):\n",
    "        self.x2 = x2\n",
    "        if self.plotting_method == \"hypervolume\":\n",
    "            self.plot_hypervolume()\n",
    "        else:\n",
    "            self.plot_utility()"
   ]
  },
  {
   "cell_type": "code",
   "execution_count": 28,
   "id": "f7327a62",
   "metadata": {
    "slideshow": {
     "slide_type": "subslide"
    }
   },
   "outputs": [
    {
     "data": {
      "application/vnd.jupyter.widget-view+json": {
       "model_id": "cb3cb5bb902341a99d4cf7ce546f271d",
       "version_major": 2,
       "version_minor": 0
      },
      "text/plain": [
       "VBox(children=(Dropdown(description='metric', layout=Layout(width='60%'), options=('hypervolume', 'scalarizati…"
      ]
     },
     "metadata": {},
     "output_type": "display_data"
    },
    {
     "data": {
      "text/html": [
       "\n",
       "        <script>\n",
       "            function code_toggle_8936625069777835077() {\n",
       "                $('div.cell.code_cell.rendered.selected').find('div.input').toggle();\n",
       "            }\n",
       "\n",
       "            \n",
       "        </script>\n",
       "\n",
       "        <a href=\"javascript:code_toggle_8936625069777835077()\">Toggle show/hide</a>\n",
       "    "
      ],
      "text/plain": [
       "<IPython.core.display.HTML object>"
      ]
     },
     "execution_count": 28,
     "metadata": {},
     "output_type": "execute_result"
    }
   ],
   "source": [
    "plot_metrics = plot_metrics_multi_objective(init_point = np.array([[13.5, 15.0]]),\n",
    "                                            reference_point=np.array([[10.5, 10.5]]),\n",
    "                                           weight = 0.5,\n",
    "                                           set_points = set_points, \n",
    "                                            method=\"utility\")\n",
    "output6 = widgets.Output()\n",
    "\n",
    "def metric_changed(graph_type):\n",
    "    with output6:\n",
    "        output6.clear_output(wait=True)\n",
    "        plot_metrics.update_method(graph_type)\n",
    "        if graph_type == \"hypervolume\":\n",
    "            plot_metrics.plot_hypervolume()\n",
    "        else:\n",
    "            plot_metrics.plot_utility()\n",
    "        plt.show()\n",
    "\n",
    "def metric_location_changed_x1(x_1):\n",
    "    with output6:\n",
    "        output6.clear_output(wait=True)\n",
    "        plot_metrics.update_location_x1(x_1[\"new\"])\n",
    "        plt.show()\n",
    "        \n",
    "def metric_location_changed_x2(x_2):\n",
    "    with output6:\n",
    "        output6.clear_output(wait=True)\n",
    "        plot_metrics.update_location_x2(x_2[\"new\"])\n",
    "        plt.show()\n",
    "        \n",
    "options = [\"hypervolume\", \"scalarization\"]\n",
    "metric_widget = widgets.Dropdown(options=options, description=r'metric', value=options[0], layout=Layout(width='60%'))\n",
    "metric_widget.observe(lambda event: metric_changed(event['new']), names='value')\n",
    "\n",
    "\n",
    "x1_slider = FloatSlider(value=13.5, min=10.5, max=18, step=0.1, description='$f_1$')\n",
    "x2_slider = FloatSlider(value=15.0, min=10.5, max=18, step=0.1, description='$f_2$')\n",
    "x1_slider.observe(metric_location_changed_x1, names='value')\n",
    "x2_slider.observe(metric_location_changed_x2, names='value')\n",
    "\n",
    "display(widgets.VBox([metric_widget, x1_slider,x2_slider, output6]))\n",
    "hide_toggle()"
   ]
  },
  {
   "cell_type": "markdown",
   "id": "71219a77",
   "metadata": {
    "slideshow": {
     "slide_type": "slide"
    }
   },
   "source": [
    "## Bayesian Optimization with multiple objectives\n",
    "- Hypervolume Based BO algorithms\n",
    "    - SExI-EGO [Emmerich et al. (2011)].\n",
    "    - EMO [Couckuyt et al. (2014)].\n",
    "    - BMOO [Feliot et al. (2017)].\n",
    "- Scalarization Based BO algorithms\n",
    "    - ParEGO [Knowles (2006)].\n",
    "    - EI-UU [Astudillo et al. (2020)].\n",
    "    - MOEA/D-EGO [Zhang et al. (2010)].\n",
    "    \n",
    "see Rojas-Gonzalez, et al \"A survey on kriging-based infill algorithms for multiobjective simulation optimization\""
   ]
  },
  {
   "cell_type": "markdown",
   "id": "9a545cb8",
   "metadata": {
    "slideshow": {
     "slide_type": "slide"
    }
   },
   "source": [
    "# Other exotic settings.\n",
    "\n",
    "- Optimize problems with a high number of input/output dimensions.\n",
    "- Optimizing over non-euclidian spaces.\n",
    "- Including user preferences for multi-objective problems.\n",
    "- Acquisition functions with multiple steps.\n",
    "- Bayesian optimization with heteroskedastic noise."
   ]
  },
  {
   "cell_type": "markdown",
   "id": "bd23f6bb",
   "metadata": {
    "slideshow": {
     "slide_type": "slide"
    }
   },
   "source": [
    "# Benefits\n",
    "\n",
    "* Global Optimization of black-box and (potentially) functions\n",
    "\n",
    "* Sample Efficient \n",
    "\n",
    "\n",
    "# Difficulties\n",
    "\n",
    "* Limited to Smooth Functions\n",
    "\n",
    "* Struggles to scale to high number of dimensions or observations."
   ]
  },
  {
   "cell_type": "markdown",
   "id": "1ac9f712",
   "metadata": {
    "slideshow": {
     "slide_type": "skip"
    }
   },
   "source": [
    "# RISE configuration"
   ]
  },
  {
   "cell_type": "code",
   "execution_count": 20,
   "id": "a4f762e9",
   "metadata": {
    "slideshow": {
     "slide_type": "skip"
    }
   },
   "outputs": [],
   "source": [
    "from traitlets.config.manager import BaseJSONConfigManager\n",
    "from pathlib import Path\n",
    "path = Path.home() / \".jupyter\" / \"nbconfig\"\n",
    "cm = BaseJSONConfigManager(config_dir=str(path))\n",
    "tmp = cm.update(\n",
    "        \"rise\",\n",
    "        {\n",
    "            \"theme\": \"simple\",\n",
    "            \"transition\": \"fade\",\n",
    "            \"start_slideshow_at\": \"selected\",\n",
    "            \"autolaunch\": True,\n",
    "            \"width\": \"100%\",\n",
    "            \"height\": \"100%\",\n",
    "            \"header\": \"\",\n",
    "            \"footer\":\"\",\n",
    "            \"scroll\": True,\n",
    "            \"enable_chalkboard\": True,\n",
    "            \"slideNumber\": True,\n",
    "            \"center\": False,\n",
    "            \"controlsLayout\": \"edges\",\n",
    "            \"slideNumber\": True,\n",
    "            \"hash\": True,\n",
    "        }\n",
    "    )"
   ]
  }
 ],
 "metadata": {
  "celltoolbar": "Slideshow",
  "kernelspec": {
   "display_name": "Python 3 (ipykernel)",
   "language": "python",
   "name": "python3"
  },
  "language_info": {
   "codemirror_mode": {
    "name": "ipython",
    "version": 3
   },
   "file_extension": ".py",
   "mimetype": "text/x-python",
   "name": "python",
   "nbconvert_exporter": "python",
   "pygments_lexer": "ipython3",
   "version": "3.8.0"
  }
 },
 "nbformat": 4,
 "nbformat_minor": 5
}
